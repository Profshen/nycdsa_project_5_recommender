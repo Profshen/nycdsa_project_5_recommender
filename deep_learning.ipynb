{
 "cells": [
  {
   "cell_type": "code",
   "execution_count": 1,
   "metadata": {
    "collapsed": true
   },
   "outputs": [],
   "source": [
    "import numpy as np\n",
    "import pandas as pd "
   ]
  },
  {
   "cell_type": "code",
   "execution_count": 2,
   "metadata": {
    "collapsed": false
   },
   "outputs": [],
   "source": [
    "# !curl -O http://files.grouplens.org/datasets/movielens/ml-latest-small.zip\n",
    "# !unzip ml-latest-small.zip"
   ]
  },
  {
   "cell_type": "code",
   "execution_count": 3,
   "metadata": {
    "collapsed": false
   },
   "outputs": [
    {
     "name": "stdout",
     "output_type": "stream",
     "text": [
      "/Users/wannjiun/Desktop/nycdsa/project_5_recommender/ml-latest-small\n"
     ]
    }
   ],
   "source": [
    "cd /Users/wannjiun/Desktop/nycdsa/project_5_recommender/ml-latest-small"
   ]
  },
  {
   "cell_type": "code",
   "execution_count": 4,
   "metadata": {
    "collapsed": false
   },
   "outputs": [
    {
     "name": "stdout",
     "output_type": "stream",
     "text": [
      "README.txt   links.csv    movies.csv   ratings.csv  tags.csv\r\n"
     ]
    }
   ],
   "source": [
    "ls"
   ]
  },
  {
   "cell_type": "code",
   "execution_count": 5,
   "metadata": {
    "collapsed": false
   },
   "outputs": [],
   "source": [
    "# !head links.csv\n",
    "# !head movies.csv \n",
    "# !head ratings.csv\n",
    "# !head tags.csv"
   ]
  },
  {
   "cell_type": "code",
   "execution_count": 20,
   "metadata": {
    "collapsed": false
   },
   "outputs": [
    {
     "data": {
      "text/plain": [
       "9125"
      ]
     },
     "execution_count": 20,
     "metadata": {},
     "output_type": "execute_result"
    }
   ],
   "source": [
    "df_id = pd.read_csv('links.csv', sep=',')\n",
    "df_id.head()"
   ]
  },
  {
   "cell_type": "code",
   "execution_count": 7,
   "metadata": {
    "collapsed": false
   },
   "outputs": [],
   "source": [
    "# Load in movie data\n",
    "idx_to_movie = {}\n",
    "for row in df_id.itertuples():\n",
    "    idx_to_movie[row[1]-1] = row[2]   "
   ]
  },
  {
   "cell_type": "code",
   "execution_count": 8,
   "metadata": {
    "collapsed": false
   },
   "outputs": [],
   "source": [
    "total_movies = 9000\n",
    "\n",
    "movies = [0]*total_movies\n",
    "for i in range(len(movies)):\n",
    "    if i in idx_to_movie.keys() and len(str(idx_to_movie[i])) == 6:\n",
    "        movies[i] = (idx_to_movie[i]) \n",
    "movies = filter(lambda imdb: imdb != 0, movies)\n",
    "total_movies  = len(movies)"
   ]
  },
  {
   "cell_type": "code",
   "execution_count": 9,
   "metadata": {
    "collapsed": false
   },
   "outputs": [],
   "source": [
    "import requests\n",
    "import json\n",
    "\n",
    "from IPython.display import Image\n",
    "from IPython.display import display\n",
    "from IPython.display import HTML\n",
    "\n",
    "# Get base url filepath structure. w185 corresponds to size of movie poster.\n",
    "headers = {'Accept': 'application/json'}\n",
    "payload = {'api_key': 'bb3beb7ec7af6d1c0c23ca7381b62a89'} \n",
    "response = requests.get(\"http://api.themoviedb.org/3/configuration\", params=payload, headers=headers)\n",
    "response = json.loads(response.text)\n",
    "base_url = response['images']['base_url'] + 'w185'\n",
    "\n",
    "def get_poster(imdbid, base_url):\n",
    "    # Get IMDB movie ID\n",
    "    movie_id = \"tt0\" + str(imdbid) \n",
    "    \n",
    "    # Query themoviedb.org API for movie poster path.\n",
    "    movie_url = 'http://api.themoviedb.org/3/movie/{:}/images'.format(movie_id)\n",
    "    headers = {'Accept': 'application/json'}\n",
    "    payload = {'api_key': 'bb3beb7ec7af6d1c0c23ca7381b62a89'} \n",
    "    response = requests.get(movie_url, params=payload, headers=headers)\n",
    "    try:\n",
    "        file_path = json.loads(response.text)['posters'][0]['file_path']\n",
    "    except:\n",
    "        file_path = \"\"\n",
    "        \n",
    "    return (base_url + file_path, imdbid) "
   ]
  },
  {
   "cell_type": "code",
   "execution_count": 10,
   "metadata": {
    "collapsed": false
   },
   "outputs": [
    {
     "data": {
      "text/html": [
       "<div>\n",
       "<table border=\"1\" class=\"dataframe\">\n",
       "  <thead>\n",
       "    <tr style=\"text-align: right;\">\n",
       "      <th></th>\n",
       "      <th>imdb</th>\n",
       "      <th>url</th>\n",
       "    </tr>\n",
       "  </thead>\n",
       "  <tbody>\n",
       "    <tr>\n",
       "      <th>0</th>\n",
       "      <td>114709</td>\n",
       "      <td>http://image.tmdb.org/t/p/w185/uMZqKhT4YA6mqo2...</td>\n",
       "    </tr>\n",
       "    <tr>\n",
       "      <th>1</th>\n",
       "      <td>113497</td>\n",
       "      <td>http://image.tmdb.org/t/p/w185/vzmL6fP7aPKNKPR...</td>\n",
       "    </tr>\n",
       "    <tr>\n",
       "      <th>2</th>\n",
       "      <td>113228</td>\n",
       "      <td>http://image.tmdb.org/t/p/w185/6ksm1sjKMFLbO7U...</td>\n",
       "    </tr>\n",
       "    <tr>\n",
       "      <th>3</th>\n",
       "      <td>114885</td>\n",
       "      <td>http://image.tmdb.org/t/p/w185/21aTe5Cp6tayodc...</td>\n",
       "    </tr>\n",
       "    <tr>\n",
       "      <th>4</th>\n",
       "      <td>113041</td>\n",
       "      <td>http://image.tmdb.org/t/p/w185/e64sOI48hQXyru7...</td>\n",
       "    </tr>\n",
       "    <tr>\n",
       "      <th>5</th>\n",
       "      <td>113277</td>\n",
       "      <td>http://image.tmdb.org/t/p/w185/zMyfPUelumio3ti...</td>\n",
       "    </tr>\n",
       "    <tr>\n",
       "      <th>6</th>\n",
       "      <td>114319</td>\n",
       "      <td>http://image.tmdb.org/t/p/w185/jQh15y5YB7bWz1N...</td>\n",
       "    </tr>\n",
       "    <tr>\n",
       "      <th>7</th>\n",
       "      <td>112302</td>\n",
       "      <td>http://image.tmdb.org/t/p/w185/sGO5Qa55p7wTu7F...</td>\n",
       "    </tr>\n",
       "    <tr>\n",
       "      <th>8</th>\n",
       "      <td>114576</td>\n",
       "      <td>http://image.tmdb.org/t/p/w185/eoWvKD60lT95Ss1...</td>\n",
       "    </tr>\n",
       "    <tr>\n",
       "      <th>9</th>\n",
       "      <td>113189</td>\n",
       "      <td>http://image.tmdb.org/t/p/w185/trtANqAEy9dxRCe...</td>\n",
       "    </tr>\n",
       "    <tr>\n",
       "      <th>10</th>\n",
       "      <td>112346</td>\n",
       "      <td>http://image.tmdb.org/t/p/w185/lymPNGLZgPHuqM2...</td>\n",
       "    </tr>\n",
       "    <tr>\n",
       "      <th>11</th>\n",
       "      <td>112896</td>\n",
       "      <td>http://image.tmdb.org/t/p/w185/xve4cgfYItnOhtz...</td>\n",
       "    </tr>\n",
       "    <tr>\n",
       "      <th>12</th>\n",
       "      <td>112453</td>\n",
       "      <td>http://image.tmdb.org/t/p/w185/gV5PCAVCPNxlOLF...</td>\n",
       "    </tr>\n",
       "    <tr>\n",
       "      <th>13</th>\n",
       "      <td>113987</td>\n",
       "      <td>http://image.tmdb.org/t/p/w185/cICkmCEiXRhvZmb...</td>\n",
       "    </tr>\n",
       "    <tr>\n",
       "      <th>14</th>\n",
       "      <td>112760</td>\n",
       "      <td>http://image.tmdb.org/t/p/w185/tTuSqPdsexobpge...</td>\n",
       "    </tr>\n",
       "    <tr>\n",
       "      <th>15</th>\n",
       "      <td>112641</td>\n",
       "      <td>http://image.tmdb.org/t/p/w185/xo517ibXBDdYQY8...</td>\n",
       "    </tr>\n",
       "    <tr>\n",
       "      <th>16</th>\n",
       "      <td>114388</td>\n",
       "      <td>http://image.tmdb.org/t/p/w185/lA9HTy84Bb6ZwNe...</td>\n",
       "    </tr>\n",
       "    <tr>\n",
       "      <th>17</th>\n",
       "      <td>113101</td>\n",
       "      <td>http://image.tmdb.org/t/p/w185/zbwxBgGO9wtauX8...</td>\n",
       "    </tr>\n",
       "    <tr>\n",
       "      <th>18</th>\n",
       "      <td>112281</td>\n",
       "      <td>http://image.tmdb.org/t/p/w185/wRlGnJhEzcxBjvW...</td>\n",
       "    </tr>\n",
       "    <tr>\n",
       "      <th>19</th>\n",
       "      <td>113845</td>\n",
       "      <td>http://image.tmdb.org/t/p/w185/jSozzzVOR2kfXgT...</td>\n",
       "    </tr>\n",
       "    <tr>\n",
       "      <th>20</th>\n",
       "      <td>113161</td>\n",
       "      <td>http://image.tmdb.org/t/p/w185/vWtDUUgQAsVyvRW...</td>\n",
       "    </tr>\n",
       "    <tr>\n",
       "      <th>21</th>\n",
       "      <td>112722</td>\n",
       "      <td>http://image.tmdb.org/t/p/w185/80czeJGSoik22fh...</td>\n",
       "    </tr>\n",
       "    <tr>\n",
       "      <th>22</th>\n",
       "      <td>112401</td>\n",
       "      <td>http://image.tmdb.org/t/p/w185/xAx5MP7Dg4y85py...</td>\n",
       "    </tr>\n",
       "    <tr>\n",
       "      <th>23</th>\n",
       "      <td>114168</td>\n",
       "      <td>http://image.tmdb.org/t/p/w185/1uRKsxOCtgz0xVq...</td>\n",
       "    </tr>\n",
       "    <tr>\n",
       "      <th>24</th>\n",
       "      <td>113627</td>\n",
       "      <td>http://image.tmdb.org/t/p/w185/37qHRJxnSh5Ykua...</td>\n",
       "    </tr>\n",
       "    <tr>\n",
       "      <th>25</th>\n",
       "      <td>114057</td>\n",
       "      <td>http://image.tmdb.org/t/p/w185/qM0BXEQjmnAzlkD...</td>\n",
       "    </tr>\n",
       "    <tr>\n",
       "      <th>26</th>\n",
       "      <td>114011</td>\n",
       "      <td>http://image.tmdb.org/t/p/w185/wD6rLdD2Ix3u9YL...</td>\n",
       "    </tr>\n",
       "    <tr>\n",
       "      <th>27</th>\n",
       "      <td>114117</td>\n",
       "      <td>http://image.tmdb.org/t/p/w185/si8911IezMvAnQF...</td>\n",
       "    </tr>\n",
       "    <tr>\n",
       "      <th>28</th>\n",
       "      <td>112682</td>\n",
       "      <td>http://image.tmdb.org/t/p/w185/eObLTBkgxz9Sp4v...</td>\n",
       "    </tr>\n",
       "    <tr>\n",
       "      <th>29</th>\n",
       "      <td>115012</td>\n",
       "      <td>http://image.tmdb.org/t/p/w185/qcoOCoN7viOhboG...</td>\n",
       "    </tr>\n",
       "    <tr>\n",
       "      <th>...</th>\n",
       "      <td>...</td>\n",
       "      <td>...</td>\n",
       "    </tr>\n",
       "    <tr>\n",
       "      <th>1974</th>\n",
       "      <td>152183</td>\n",
       "      <td>http://image.tmdb.org/t/p/w185/sCjGSQMBw2rMs9h...</td>\n",
       "    </tr>\n",
       "    <tr>\n",
       "      <th>1975</th>\n",
       "      <td>762138</td>\n",
       "      <td>http://image.tmdb.org/t/p/w185/iSXHzEvbx825vUb...</td>\n",
       "    </tr>\n",
       "    <tr>\n",
       "      <th>1976</th>\n",
       "      <td>848537</td>\n",
       "      <td>http://image.tmdb.org/t/p/w185/dUeXOJCpfWmZd9K...</td>\n",
       "    </tr>\n",
       "    <tr>\n",
       "      <th>1977</th>\n",
       "      <td>770828</td>\n",
       "      <td>http://image.tmdb.org/t/p/w185/xWlaTLnD8NJMTT9...</td>\n",
       "    </tr>\n",
       "    <tr>\n",
       "      <th>1978</th>\n",
       "      <td>816711</td>\n",
       "      <td>http://image.tmdb.org/t/p/w185/Ha5t0J21eyiq6Az...</td>\n",
       "    </tr>\n",
       "    <tr>\n",
       "      <th>1979</th>\n",
       "      <td>790736</td>\n",
       "      <td>http://image.tmdb.org/t/p/w185/ldBBulVDkifYnT5...</td>\n",
       "    </tr>\n",
       "    <tr>\n",
       "      <th>1980</th>\n",
       "      <td>469021</td>\n",
       "      <td>http://image.tmdb.org/t/p/w185/2ad6PXTg2WHANUQ...</td>\n",
       "    </tr>\n",
       "    <tr>\n",
       "      <th>1981</th>\n",
       "      <td>790636</td>\n",
       "      <td>http://image.tmdb.org/t/p/w185/aoxYci1HnJdb4bn...</td>\n",
       "    </tr>\n",
       "    <tr>\n",
       "      <th>1982</th>\n",
       "      <td>437489</td>\n",
       "      <td>http://image.tmdb.org/t/p/w185/zRh6R3fBT6cVWGG...</td>\n",
       "    </tr>\n",
       "    <tr>\n",
       "      <th>1983</th>\n",
       "      <td>816442</td>\n",
       "      <td>http://image.tmdb.org/t/p/w185/rUJbwJkJNjwEcFY...</td>\n",
       "    </tr>\n",
       "    <tr>\n",
       "      <th>1984</th>\n",
       "      <td>993846</td>\n",
       "      <td>http://image.tmdb.org/t/p/w185/vK1o5rZGqxyovfI...</td>\n",
       "    </tr>\n",
       "    <tr>\n",
       "      <th>1985</th>\n",
       "      <td>860907</td>\n",
       "      <td>http://image.tmdb.org/t/p/w185/oSYlerGsDEQeXg8...</td>\n",
       "    </tr>\n",
       "    <tr>\n",
       "      <th>1986</th>\n",
       "      <td>359950</td>\n",
       "      <td>http://image.tmdb.org/t/p/w185/b0nIj7dr2bcLAn3...</td>\n",
       "    </tr>\n",
       "    <tr>\n",
       "      <th>1987</th>\n",
       "      <td>845439</td>\n",
       "      <td>http://image.tmdb.org/t/p/w185/AaEThAQF5iLRXn1...</td>\n",
       "    </tr>\n",
       "    <tr>\n",
       "      <th>1988</th>\n",
       "      <td>142244</td>\n",
       "      <td>http://image.tmdb.org/t/p/w185/n1SENIqqAUPAe66...</td>\n",
       "    </tr>\n",
       "    <tr>\n",
       "      <th>1989</th>\n",
       "      <td>142250</td>\n",
       "      <td>http://image.tmdb.org/t/p/w185/cmVD4u60Y8dkDJM...</td>\n",
       "    </tr>\n",
       "    <tr>\n",
       "      <th>1990</th>\n",
       "      <td>995832</td>\n",
       "      <td>http://image.tmdb.org/t/p/w185/zFSwVc2dtf2JFay...</td>\n",
       "    </tr>\n",
       "    <tr>\n",
       "      <th>1991</th>\n",
       "      <td>210843</td>\n",
       "      <td>http://image.tmdb.org/t/p/w185/smVuzlaZz9DM9v4...</td>\n",
       "    </tr>\n",
       "    <tr>\n",
       "      <th>1992</th>\n",
       "      <td>105744</td>\n",
       "      <td>http://image.tmdb.org/t/p/w185/4LWMXzCAsQqNFsI...</td>\n",
       "    </tr>\n",
       "    <tr>\n",
       "      <th>1993</th>\n",
       "      <td>816692</td>\n",
       "      <td>http://image.tmdb.org/t/p/w185/nBNZadXqJSdt05S...</td>\n",
       "    </tr>\n",
       "    <tr>\n",
       "      <th>1994</th>\n",
       "      <td>864835</td>\n",
       "      <td>http://image.tmdb.org/t/p/w185/cVlnHM2F1VHXbGS...</td>\n",
       "    </tr>\n",
       "    <tr>\n",
       "      <th>1995</th>\n",
       "      <td>377309</td>\n",
       "      <td>http://image.tmdb.org/t/p/w185/oLos2N2rne670yF...</td>\n",
       "    </tr>\n",
       "    <tr>\n",
       "      <th>1996</th>\n",
       "      <td>279967</td>\n",
       "      <td>http://image.tmdb.org/t/p/w185/ebuRP7g3tJlLxee...</td>\n",
       "    </tr>\n",
       "    <tr>\n",
       "      <th>1997</th>\n",
       "      <td>831387</td>\n",
       "      <td>http://image.tmdb.org/t/p/w185/A8wNftNUzHHq8Ye...</td>\n",
       "    </tr>\n",
       "    <tr>\n",
       "      <th>1998</th>\n",
       "      <td>455944</td>\n",
       "      <td>http://image.tmdb.org/t/p/w185/2eQfjqlvPAxd9aL...</td>\n",
       "    </tr>\n",
       "    <tr>\n",
       "      <th>1999</th>\n",
       "      <td>435651</td>\n",
       "      <td>http://image.tmdb.org/t/p/w185/4g19qQ4pfQz6nlV...</td>\n",
       "    </tr>\n",
       "    <tr>\n",
       "      <th>2000</th>\n",
       "      <td>458481</td>\n",
       "      <td>http://image.tmdb.org/t/p/w185/k80qKrJ0qQ6ocVo...</td>\n",
       "    </tr>\n",
       "    <tr>\n",
       "      <th>2001</th>\n",
       "      <td>787474</td>\n",
       "      <td>http://image.tmdb.org/t/p/w185/82BWSf1NfCm18ZJ...</td>\n",
       "    </tr>\n",
       "    <tr>\n",
       "      <th>2002</th>\n",
       "      <td>829150</td>\n",
       "      <td>http://image.tmdb.org/t/p/w185/4oy4e0DP6LRwRsz...</td>\n",
       "    </tr>\n",
       "    <tr>\n",
       "      <th>2003</th>\n",
       "      <td>470752</td>\n",
       "      <td>http://image.tmdb.org/t/p/w185/ArKzGW8sQGZTHil...</td>\n",
       "    </tr>\n",
       "  </tbody>\n",
       "</table>\n",
       "<p>2004 rows × 2 columns</p>\n",
       "</div>"
      ],
      "text/plain": [
       "        imdb                                                url\n",
       "0     114709  http://image.tmdb.org/t/p/w185/uMZqKhT4YA6mqo2...\n",
       "1     113497  http://image.tmdb.org/t/p/w185/vzmL6fP7aPKNKPR...\n",
       "2     113228  http://image.tmdb.org/t/p/w185/6ksm1sjKMFLbO7U...\n",
       "3     114885  http://image.tmdb.org/t/p/w185/21aTe5Cp6tayodc...\n",
       "4     113041  http://image.tmdb.org/t/p/w185/e64sOI48hQXyru7...\n",
       "5     113277  http://image.tmdb.org/t/p/w185/zMyfPUelumio3ti...\n",
       "6     114319  http://image.tmdb.org/t/p/w185/jQh15y5YB7bWz1N...\n",
       "7     112302  http://image.tmdb.org/t/p/w185/sGO5Qa55p7wTu7F...\n",
       "8     114576  http://image.tmdb.org/t/p/w185/eoWvKD60lT95Ss1...\n",
       "9     113189  http://image.tmdb.org/t/p/w185/trtANqAEy9dxRCe...\n",
       "10    112346  http://image.tmdb.org/t/p/w185/lymPNGLZgPHuqM2...\n",
       "11    112896  http://image.tmdb.org/t/p/w185/xve4cgfYItnOhtz...\n",
       "12    112453  http://image.tmdb.org/t/p/w185/gV5PCAVCPNxlOLF...\n",
       "13    113987  http://image.tmdb.org/t/p/w185/cICkmCEiXRhvZmb...\n",
       "14    112760  http://image.tmdb.org/t/p/w185/tTuSqPdsexobpge...\n",
       "15    112641  http://image.tmdb.org/t/p/w185/xo517ibXBDdYQY8...\n",
       "16    114388  http://image.tmdb.org/t/p/w185/lA9HTy84Bb6ZwNe...\n",
       "17    113101  http://image.tmdb.org/t/p/w185/zbwxBgGO9wtauX8...\n",
       "18    112281  http://image.tmdb.org/t/p/w185/wRlGnJhEzcxBjvW...\n",
       "19    113845  http://image.tmdb.org/t/p/w185/jSozzzVOR2kfXgT...\n",
       "20    113161  http://image.tmdb.org/t/p/w185/vWtDUUgQAsVyvRW...\n",
       "21    112722  http://image.tmdb.org/t/p/w185/80czeJGSoik22fh...\n",
       "22    112401  http://image.tmdb.org/t/p/w185/xAx5MP7Dg4y85py...\n",
       "23    114168  http://image.tmdb.org/t/p/w185/1uRKsxOCtgz0xVq...\n",
       "24    113627  http://image.tmdb.org/t/p/w185/37qHRJxnSh5Ykua...\n",
       "25    114057  http://image.tmdb.org/t/p/w185/qM0BXEQjmnAzlkD...\n",
       "26    114011  http://image.tmdb.org/t/p/w185/wD6rLdD2Ix3u9YL...\n",
       "27    114117  http://image.tmdb.org/t/p/w185/si8911IezMvAnQF...\n",
       "28    112682  http://image.tmdb.org/t/p/w185/eObLTBkgxz9Sp4v...\n",
       "29    115012  http://image.tmdb.org/t/p/w185/qcoOCoN7viOhboG...\n",
       "...      ...                                                ...\n",
       "1974  152183  http://image.tmdb.org/t/p/w185/sCjGSQMBw2rMs9h...\n",
       "1975  762138  http://image.tmdb.org/t/p/w185/iSXHzEvbx825vUb...\n",
       "1976  848537  http://image.tmdb.org/t/p/w185/dUeXOJCpfWmZd9K...\n",
       "1977  770828  http://image.tmdb.org/t/p/w185/xWlaTLnD8NJMTT9...\n",
       "1978  816711  http://image.tmdb.org/t/p/w185/Ha5t0J21eyiq6Az...\n",
       "1979  790736  http://image.tmdb.org/t/p/w185/ldBBulVDkifYnT5...\n",
       "1980  469021  http://image.tmdb.org/t/p/w185/2ad6PXTg2WHANUQ...\n",
       "1981  790636  http://image.tmdb.org/t/p/w185/aoxYci1HnJdb4bn...\n",
       "1982  437489  http://image.tmdb.org/t/p/w185/zRh6R3fBT6cVWGG...\n",
       "1983  816442  http://image.tmdb.org/t/p/w185/rUJbwJkJNjwEcFY...\n",
       "1984  993846  http://image.tmdb.org/t/p/w185/vK1o5rZGqxyovfI...\n",
       "1985  860907  http://image.tmdb.org/t/p/w185/oSYlerGsDEQeXg8...\n",
       "1986  359950  http://image.tmdb.org/t/p/w185/b0nIj7dr2bcLAn3...\n",
       "1987  845439  http://image.tmdb.org/t/p/w185/AaEThAQF5iLRXn1...\n",
       "1988  142244  http://image.tmdb.org/t/p/w185/n1SENIqqAUPAe66...\n",
       "1989  142250  http://image.tmdb.org/t/p/w185/cmVD4u60Y8dkDJM...\n",
       "1990  995832  http://image.tmdb.org/t/p/w185/zFSwVc2dtf2JFay...\n",
       "1991  210843  http://image.tmdb.org/t/p/w185/smVuzlaZz9DM9v4...\n",
       "1992  105744  http://image.tmdb.org/t/p/w185/4LWMXzCAsQqNFsI...\n",
       "1993  816692  http://image.tmdb.org/t/p/w185/nBNZadXqJSdt05S...\n",
       "1994  864835  http://image.tmdb.org/t/p/w185/cVlnHM2F1VHXbGS...\n",
       "1995  377309  http://image.tmdb.org/t/p/w185/oLos2N2rne670yF...\n",
       "1996  279967  http://image.tmdb.org/t/p/w185/ebuRP7g3tJlLxee...\n",
       "1997  831387  http://image.tmdb.org/t/p/w185/A8wNftNUzHHq8Ye...\n",
       "1998  455944  http://image.tmdb.org/t/p/w185/2eQfjqlvPAxd9aL...\n",
       "1999  435651  http://image.tmdb.org/t/p/w185/4g19qQ4pfQz6nlV...\n",
       "2000  458481  http://image.tmdb.org/t/p/w185/k80qKrJ0qQ6ocVo...\n",
       "2001  787474  http://image.tmdb.org/t/p/w185/82BWSf1NfCm18ZJ...\n",
       "2002  829150  http://image.tmdb.org/t/p/w185/4oy4e0DP6LRwRsz...\n",
       "2003  470752  http://image.tmdb.org/t/p/w185/ArKzGW8sQGZTHil...\n",
       "\n",
       "[2004 rows x 2 columns]"
      ]
     },
     "execution_count": 10,
     "metadata": {},
     "output_type": "execute_result"
    }
   ],
   "source": [
    "URL = [0]*total_movies \n",
    "IMDB = [0]*total_movies \n",
    "URL_IMDB = {\"url\":[],\"imdb\":[]}\n",
    "i = 0\n",
    "for movie in movies:\n",
    "    (URL[i], IMDB[i]) = get_poster(movie, base_url)\n",
    "    if URL[i] != base_url+\"\":\n",
    "        URL_IMDB[\"url\"].append(URL[i])\n",
    "        URL_IMDB[\"imdb\"].append(IMDB[i])\n",
    "    i += 1 \n",
    "# URL = filter(lambda url: url != base_url+\"\", URL)\n",
    "df = pd.DataFrame(data=URL_IMDB) \n",
    "df\n",
    "    \n",
    "# images = ''\n",
    "# for i in range(n_display):\n",
    "#     images += \"<img style='width: 120px; margin: 0px; \\\n",
    "#                 float: left; border: 1px solid black;' src='%s' />\" \\\n",
    "#                 % URL[i]\n",
    "\n",
    "# display(HTML(images))    "
   ]
  },
  {
   "cell_type": "code",
   "execution_count": 11,
   "metadata": {
    "collapsed": false
   },
   "outputs": [
    {
     "data": {
      "text/plain": [
       "2004"
      ]
     },
     "execution_count": 11,
     "metadata": {},
     "output_type": "execute_result"
    }
   ],
   "source": [
    "total_movies = len(df)  \n",
    "total_movies"
   ]
  },
  {
   "cell_type": "code",
   "execution_count": 12,
   "metadata": {
    "collapsed": false
   },
   "outputs": [],
   "source": [
    "import urllib\n",
    "\n",
    "poster_path = \"/Users/wannjiun/Desktop/nycdsa/project_5_recommender/posters/\"\n",
    "for i in range(total_movies):\n",
    "    urllib.urlretrieve(df.url[i], poster_path + str(i) + \".jpg\")"
   ]
  },
  {
   "cell_type": "code",
   "execution_count": 13,
   "metadata": {
    "collapsed": false
   },
   "outputs": [
    {
     "name": "stderr",
     "output_type": "stream",
     "text": [
      "Using TensorFlow backend.\n"
     ]
    }
   ],
   "source": [
    "from keras.applications import VGG16\n",
    "from keras.applications.vgg16 import preprocess_input\n",
    "from keras.preprocessing import image as kimage\n",
    "\n",
    "img = [0]*total_movies\n",
    "x = [0]*total_movies\n",
    "for i in range(total_movies):\n",
    "    img[i] = kimage.load_img(poster_path + str(i) + \".jpg\", target_size=(224, 224))\n",
    "    x[i] = kimage.img_to_array(img[i])\n",
    "    x[i] = np.expand_dims(x[i], axis=0)\n",
    "    x[i] = preprocess_input(x[i])"
   ]
  },
  {
   "cell_type": "code",
   "execution_count": 14,
   "metadata": {
    "collapsed": false
   },
   "outputs": [],
   "source": [
    "# image_top=False removes final connected layers\n",
    "model = VGG16(include_top=False, weights='imagenet') "
   ]
  },
  {
   "cell_type": "code",
   "execution_count": 15,
   "metadata": {
    "collapsed": false
   },
   "outputs": [],
   "source": [
    "pred = [0]*total_movies\n",
    "pred_norm = [0]*total_movies\n",
    "matrix_res = np.zeros([total_movies,25088])\n",
    "for i in range(total_movies):\n",
    "    pred[i] = model.predict(x[i]).ravel()\n",
    "    matrix_res[i,:] = pred[i]  "
   ]
  },
  {
   "cell_type": "code",
   "execution_count": 16,
   "metadata": {
    "collapsed": false
   },
   "outputs": [
    {
     "data": {
      "text/plain": [
       "25088"
      ]
     },
     "execution_count": 16,
     "metadata": {},
     "output_type": "execute_result"
    }
   ],
   "source": [
    "sim = matrix_res.dot(matrix_res.T)\n",
    "norms = np.array([np.sqrt(np.diagonal(sim))])\n",
    "sim = sim / norms / norms.T \n",
    "len(pred[0])  "
   ]
  },
  {
   "cell_type": "code",
   "execution_count": 17,
   "metadata": {
    "collapsed": false
   },
   "outputs": [],
   "source": [
    "# Load in movie data\n",
    "idx_to_movie2 = {}\n",
    "i = 0\n",
    "for row in df.itertuples():\n",
    "    idx_to_movie2[i] = row[1]\n",
    "    i += 1   "
   ]
  },
  {
   "cell_type": "code",
   "execution_count": 91,
   "metadata": {
    "collapsed": false
   },
   "outputs": [],
   "source": [
    "def top_k_movies(similarity, mapper, movie_idx, k=6):\n",
    "    return [mapper[x] for x in np.argsort(similarity[movie_idx,:])[:-k-1:-1]]\n",
    "\n",
    "idx = 1811\n",
    "movies = top_k_movies(sim, idx_to_movie2, idx)\n",
    "movies = movies[:5]"
   ]
  },
  {
   "cell_type": "code",
   "execution_count": 92,
   "metadata": {
    "collapsed": false
   },
   "outputs": [
    {
     "data": {
      "text/html": [
       "<img style='width: 110px; margin: 0px;                 float: left; border: 1px solid black;' src='http://image.tmdb.org/t/p/w185/c8aKD27TFvAmu8dPU2e8O5XGqI8.jpg' /><img style='width: 110px; margin: 0px;                 float: left; border: 1px solid black;' src='http://image.tmdb.org/t/p/w185/140ewbWv8qHStD3mlBDvvGd0Zvu.jpg' /><img style='width: 110px; margin: 0px;                 float: left; border: 1px solid black;' src='http://image.tmdb.org/t/p/w185/3099yAShS9AEfsSOUSH1hEzDqcf.jpg' /><img style='width: 110px; margin: 0px;                 float: left; border: 1px solid black;' src='http://image.tmdb.org/t/p/w185/yumzX3Fn7geEKEjuAGNcRjZETPE.jpg' /><img style='width: 110px; margin: 0px;                 float: left; border: 1px solid black;' src='http://image.tmdb.org/t/p/w185/eHi3Nbgh6Cs2KiIyEMF4Ig4CdjX.jpg' />"
      ],
      "text/plain": [
       "<IPython.core.display.HTML object>"
      ]
     },
     "metadata": {},
     "output_type": "display_data"
    }
   ],
   "source": [
    "n_display = 5\n",
    "URL = [0]*n_display\n",
    "i = 0\n",
    "for movie in movies:\n",
    "    (URL[i], IMDB[i]) = get_poster(movie, base_url)\n",
    "    i += 1 \n",
    "    \n",
    "images = ''\n",
    "for i in range(n_display):\n",
    "    images += \"<img style='width: 110px; margin: 0px; \\\n",
    "                float: left; border: 1px solid black;' src='%s' />\" \\\n",
    "                % URL[i]\n",
    "\n",
    "display(HTML(images))  "
   ]
  },
  {
   "cell_type": "code",
   "execution_count": null,
   "metadata": {
    "collapsed": true
   },
   "outputs": [],
   "source": []
  }
 ],
 "metadata": {
  "anaconda-cloud": {},
  "kernelspec": {
   "display_name": "Python [Root]",
   "language": "python",
   "name": "Python [Root]"
  },
  "language_info": {
   "codemirror_mode": {
    "name": "ipython",
    "version": 2
   },
   "file_extension": ".py",
   "mimetype": "text/x-python",
   "name": "python",
   "nbconvert_exporter": "python",
   "pygments_lexer": "ipython2",
   "version": "2.7.12"
  }
 },
 "nbformat": 4,
 "nbformat_minor": 0
}
